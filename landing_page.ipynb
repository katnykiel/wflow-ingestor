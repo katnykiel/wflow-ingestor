{
 "cells": [
  {
   "cell_type": "markdown",
   "id": "25993330",
   "metadata": {},
   "source": [
    "# Atomate2 Workflow Ingestor\n",
    "###  Kat Nykiel, Alejandro Strachan\n",
    "School of Materials Engineering and Birck Nanotechnology Center, Purdue University, West Lafayette, Indiana 47907, United States"
   ]
  },
  {
   "cell_type": "markdown",
   "id": "73735808",
   "metadata": {
    "ExecuteTime": {
     "end_time": "2023-06-21T16:42:11.473732Z",
     "start_time": "2023-06-21T16:42:11.468123Z"
    }
   },
   "source": [
    "## Abstract\n",
    "This [Sim2L](https://journals.plos.org/plosone/article?id=10.1371/journal.pone.0264492) allows researchers to share their density functional theory calculations performed using atomate2 and make the findable, accessible, interoperable, and reusable ([FAIR](https://www.go-fair.org/fair-principles/)). \n",
    "\n",
    "Specifically, this tool is used to cache the individual steps that compose a workflow. Using the atomate2 and FireWorks terminology, each green box in the diagram below represents a *firework*, or individual step, while the overall diagram is a *workflow*. Users can upload their atomate2 workflows, and the Sim2L stores the intermediate steps, and provides the final outputs of the workflow, along with relevant metadata. The fireworks containing VASP runs are not stored directly in this tool, but instead in nanoHUB's [vaspingestor tool](https://nanohub.org/tools/vaspingestor).\n",
    "\n",
    "![sample atomate2 workflow](./notebooks/elastic-workflow.png)\n",
    "\n",
    "Using this Sim2L, researchers satisfy data-sharing requirements such as those called for by the [US Office of Science and Technology Policy](https://www.whitehouse.gov/ostp/news-updates/2022/08/25/ostp-issues-guidance-to-make-federally-funded-research-freely-available-without-delay/)\n"
   ]
  },
  {
   "cell_type": "markdown",
   "id": "3296adfd",
   "metadata": {},
   "source": [
    "## Atomate2 Workflow Data Ingestor Input/Output Overview\n",
    "\n",
    "For robustness, the wflowingestor Sim2L stores each step (firework) of the atomate2 workflow as an individual entry into the database.\n",
    "\n",
    "The Sim2L takes the following inputs: \n",
    "\n",
    "- the fw_doc, as a dictionary\n",
    "- the workflow id\n",
    "- the workflow graph associated with the fw_doc, as a dictionary\n",
    "- the Author associated with the dataset\n",
    "- a Tag to identify the specific datasetss\n",
    "\n",
    "The Sim2L ingests the results and extracts the following outputs: \n",
    "\n",
    "- the fw_id of this document\n",
    "- simplified outputs\n",
    "  - structure\n",
    "  - doc type (elastic tensor fitting, etc.)\n",
    "- the vaspingestor squid_id, if returned\n",
    "\n",
    "All inputs and outputs are indexed in the ResultsDB: https://nanohub.org/results.  \n",
    "\n",
    "The Sim2L itself can be found here here: [wflowingestor.ipynb](simtool/wflowingestor.ipynb)\n"
   ]
  },
  {
   "cell_type": "markdown",
   "id": "e424bb70",
   "metadata": {},
   "source": [
    "## Upload your VASP run and make your results FAIR\n",
    "This notebook shows how to upload a workflow into the Sim2L. nanoHUB does the rest automatically. Once you upload your data, it will be automatically indexed into the results database.\n",
    "\n",
    "[Upload your workflow and share it](notebooks/ingest-workflow.ipynb)\n"
   ]
  },
  {
   "cell_type": "markdown",
   "id": "489838d2",
   "metadata": {},
   "source": [
    "## Query the ResultsDB and explore workflows\n",
    "\n",
    "- how to query for all steps of a specific workflow (i.e. for a given structure)\n",
    "- how to query for all steps of a given type (i.e. elastic constants)\n",
    "\n",
    "Below, we demonstrate how to use this tool to reproduct the results of \"XYZ publication\"\n",
    "\n",
    "[Query the database for workflows and analyze results](notebooks/query-workflow.ipynb)"
   ]
  },
  {
   "cell_type": "code",
   "execution_count": null,
   "id": "82b4d13c",
   "metadata": {},
   "outputs": [],
   "source": []
  }
 ],
 "metadata": {
  "kernelspec": {
   "display_name": "Python 3.8",
   "language": "python",
   "name": "python3"
  },
  "language_info": {
   "codemirror_mode": {
    "name": "ipython",
    "version": 3
   },
   "file_extension": ".py",
   "mimetype": "text/x-python",
   "name": "python",
   "nbconvert_exporter": "python",
   "pygments_lexer": "ipython3",
   "version": "3.8.10"
  },
  "toc": {
   "base_numbering": 1,
   "nav_menu": {},
   "number_sections": true,
   "sideBar": true,
   "skip_h1_title": false,
   "title_cell": "Table of Contents",
   "title_sidebar": "Contents",
   "toc_cell": false,
   "toc_position": {},
   "toc_section_display": true,
   "toc_window_display": false
  },
  "varInspector": {
   "cols": {
    "lenName": 16,
    "lenType": 16,
    "lenVar": 40
   },
   "kernels_config": {
    "python": {
     "delete_cmd_postfix": "",
     "delete_cmd_prefix": "del ",
     "library": "var_list.py",
     "varRefreshCmd": "print(var_dic_list())"
    },
    "r": {
     "delete_cmd_postfix": ") ",
     "delete_cmd_prefix": "rm(",
     "library": "var_list.r",
     "varRefreshCmd": "cat(var_dic_list()) "
    }
   },
   "types_to_exclude": [
    "module",
    "function",
    "builtin_function_or_method",
    "instance",
    "_Feature"
   ],
   "window_display": false
  }
 },
 "nbformat": 4,
 "nbformat_minor": 5
}
