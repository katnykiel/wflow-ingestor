{
 "cells": [
  {
   "cell_type": "code",
   "execution_count": null,
   "metadata": {
    "tags": [
     "DESCRIPTION"
    ]
   },
   "outputs": [],
   "source": [
    "DESCRIPTION = \"\"\"A tool for sharing atomate2 workflows, which stores processing steps in this database and stores VASP runs in vaspingestor\"\"\""
   ]
  },
  {
   "cell_type": "code",
   "execution_count": null,
   "metadata": {},
   "outputs": [],
   "source": [
    "%load_ext yamlmagic"
   ]
  },
  {
   "cell_type": "code",
   "execution_count": null,
   "metadata": {},
   "outputs": [],
   "source": [
    "%%yaml INPUTS\n",
    "\n",
    "fw_doc:\n",
    "    type: Dict\n",
    "    description: Atomate2 firework document\n",
    "    value: {}\n",
    "\n",
    "wf_id:\n",
    "    type: Int\n",
    "    description: Workflow id\n",
    "    value: 0\n",
    "\n",
    "wf_graph:\n",
    "    type: Dict\n",
    "    description: Atomate2 workflow graph\n",
    "    value: {}\n",
    "        \n",
    "author:\n",
    "    type: Tag\n",
    "    description: Author to be associated with the workflow\n",
    "    value: \"\"\n",
    "        \n",
    "dataset:\n",
    "    type: Tag\n",
    "    description: Dataset to be associated with the workflow\n",
    "    value: \"\""
   ]
  },
  {
   "cell_type": "code",
   "execution_count": null,
   "metadata": {
    "tags": [
     "FILES"
    ]
   },
   "outputs": [],
   "source": [
    "EXTRA_FILES = []"
   ]
  },
  {
   "cell_type": "code",
   "execution_count": null,
   "metadata": {
    "tags": [
     "parameters"
    ]
   },
   "outputs": [],
   "source": [
    "from simtool import getValidatedInputs\n",
    "\n",
    "defaultInputs = getValidatedInputs(INPUTS)\n",
    "if defaultInputs:\n",
    "    globals().update(defaultInputs)"
   ]
  },
  {
   "cell_type": "code",
   "execution_count": null,
   "metadata": {},
   "outputs": [],
   "source": [
    "from simtool import getParamsFromDictionary\n",
    "\n",
    "inputParameters = getParamsFromDictionary(INPUTS,globals())"
   ]
  },
  {
   "cell_type": "code",
   "execution_count": null,
   "metadata": {
    "code_folding": []
   },
   "outputs": [],
   "source": [
    "%%yaml OUTPUTS\n",
    "\n",
    "fw_id:\n",
    "    type: Int\n",
    "    description: Fireworks ID of the task\n",
    "    value: 0\n",
    "\n",
    "name:\n",
    "    type: Str\n",
    "    description: Name of the firework step\n",
    "    value: \"\"\n",
    "\n",
    "structure:\n",
    "    type: Dict\n",
    "    description: Pymatgen structure associated with the firework\n",
    "    value: \"\"\n",
    "\n",
    "vasp_id:\n",
    "    type: Str\n",
    "    description: ID returned from the vaspingestor tool, if ran\n",
    "    value: \"\"\n",
    "\n",
    "outputs:\n",
    "    type: Dict\n",
    "    description: Simplified set of outputs of the firework\n",
    "    value: {}"
   ]
  },
  {
   "cell_type": "code",
   "execution_count": null,
   "metadata": {},
   "outputs": [],
   "source": [
    "# Import required libraries\n",
    "import numpy as np\n",
    "from pymatgen.core import Structure\n"
   ]
  },
  {
   "cell_type": "code",
   "execution_count": null,
   "metadata": {},
   "outputs": [],
   "source": [
    "# Validate inputs\n",
    "if not fw_doc:\n",
    "    raise Exception(\"No fw_doc provided\")\n",
    "\n",
    "# check if the @class key is JobStoreDocument\n",
    "if fw_doc.get('@class') != 'JobStoreDocument':\n",
    "    raise Exception(\"This doesn't appear to be a JobStoreDocument\")\n"
   ]
  },
  {
   "cell_type": "code",
   "execution_count": null,
   "metadata": {
    "ExecuteTime": {
     "end_time": "2023-02-10T15:33:31.309500Z",
     "start_time": "2023-02-10T15:33:31.108819Z"
    }
   },
   "outputs": [],
   "source": [
    "# extract the outputs from the fw_doc\n",
    "fw_id = fw_doc['metadata']['fw_id']\n",
    "name = fw_doc['name']\n",
    "structure = fw_doc['output'].get('structure', {})"
   ]
  },
  {
   "cell_type": "code",
   "execution_count": null,
   "metadata": {},
   "outputs": [],
   "source": [
    "# Import nanoHUB-specific libraries\n",
    "import nanohubremote as nr\n",
    "from simtool import findInstalledSimToolNotebooks,searchForSimTool\n",
    "from simtool import getSimToolInputs,getSimToolOutputs,Run"
   ]
  },
  {
   "cell_type": "code",
   "execution_count": null,
   "metadata": {},
   "outputs": [],
   "source": [
    "# if the fw_doc is a vasp run, store it in vaspingestor and get the vasp_id in return\n",
    "if fw_doc['output'].get('run_type','') in ['PBE']: # TODO: add more run types\n",
    "\n",
    "    # Load the Sim2L\n",
    "    simToolName = \"vaspingestor\"\n",
    "    simToolLocation = searchForSimTool(simToolName)\n",
    "    installedSimToolNotebooks = findInstalledSimToolNotebooks(simToolName,returnString=True)\n",
    "    \n",
    "    # Get the Sim2L IO\n",
    "    inputs = getSimToolInputs(simToolLocation)\n",
    "    outputs = getSimToolOutputs(simToolLocation)\n",
    "\n",
    "    ## Submit Sim2L sequentially\n",
    "    # Set the inputs for the Sim2L\n",
    "    inputs['doc'].value = fw_doc['output']\n",
    "    inputs['author'].value = author\n",
    "    inputs['dataset'].value = dataset\n",
    "\n",
    "    # Run Sim2L\n",
    "    r = Run(simToolLocation,inputs)\n",
    "    \n",
    "    # Obtain results for Sim2L\n",
    "    r.getResultSummary()"
   ]
  },
  {
   "cell_type": "code",
   "execution_count": null,
   "metadata": {},
   "outputs": [],
   "source": [
    "from simtool import DB\n",
    "db = DB(OUTPUTS)"
   ]
  },
  {
   "cell_type": "code",
   "execution_count": null,
   "metadata": {},
   "outputs": [],
   "source": [
    "db.save('fw_id',fw_id)\n",
    "db.save('name',name)\n",
    "db.save('structure',structure)\n",
    "db.save('vasp_id',\"\")\n",
    "db.save('outputs',{})"
   ]
  }
 ],
 "metadata": {
  "celltoolbar": "Tags",
  "kernelspec": {
   "display_name": "Python 3.8",
   "language": "python",
   "name": "python3"
  },
  "language_info": {
   "codemirror_mode": {
    "name": "ipython",
    "version": 3
   },
   "file_extension": ".py",
   "mimetype": "text/x-python",
   "name": "python",
   "nbconvert_exporter": "python",
   "pygments_lexer": "ipython3",
   "version": "3.8.10"
  },
  "toc": {
   "base_numbering": 1,
   "nav_menu": {},
   "number_sections": true,
   "sideBar": true,
   "skip_h1_title": false,
   "title_cell": "Table of Contents",
   "title_sidebar": "Contents",
   "toc_cell": false,
   "toc_position": {},
   "toc_section_display": true,
   "toc_window_display": false
  },
  "varInspector": {
   "cols": {
    "lenName": 16,
    "lenType": 16,
    "lenVar": 40
   },
   "kernels_config": {
    "python": {
     "delete_cmd_postfix": "",
     "delete_cmd_prefix": "del ",
     "library": "var_list.py",
     "varRefreshCmd": "print(var_dic_list())"
    },
    "r": {
     "delete_cmd_postfix": ") ",
     "delete_cmd_prefix": "rm(",
     "library": "var_list.r",
     "varRefreshCmd": "cat(var_dic_list()) "
    }
   },
   "types_to_exclude": [
    "module",
    "function",
    "builtin_function_or_method",
    "instance",
    "_Feature"
   ],
   "window_display": false
  },
  "vscode": {
   "interpreter": {
    "hash": "e1f3f00537263988fa85769ed8986b296664a8d121acde373600e1f4c9c6d449"
   }
  }
 },
 "nbformat": 4,
 "nbformat_minor": 2
}
