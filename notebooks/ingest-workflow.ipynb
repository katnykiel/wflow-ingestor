{
 "cells": [
  {
   "cell_type": "markdown",
   "id": "10f3bd8b",
   "metadata": {},
   "source": [
    "# Atomate2 Workflow Ingestor \n",
    "###  Kat Nykiel, Alejandro Strachan\n",
    "School of Materials Engineering and Birck Nanotechnology Center, Purdue University, West Lafayette, Indiana 47907, United States"
   ]
  },
  {
   "cell_type": "markdown",
   "id": "f306a9d7",
   "metadata": {},
   "source": [
    "## Load Atomate2 Workflow\n",
    "\n",
    "This Sim2L stores atomate2 workflows by ingesting each firework individually. To keep track of the workflows, you can run the following commands to query your atomate2 database.\n",
    "\n",
    "```python\n",
    "from fireworks import LaunchPad\n",
    "from jobflow import SETTINGS\n",
    "import json\n",
    "\n",
    "#  query the launchpad for a workflow\n",
    "lp = LaunchPad.auto_load()\n",
    "wf = lp.workflows.find_one({\"nodes\": 93701})\n",
    "with open(\"workflow.json\", \"w\") as f:\n",
    "    json.dump(wf['links'], f, default=str)\n",
    "\n",
    "# query the job store for the fireworks in the given workflow\n",
    "store = SETTINGS.JOB_STORE\n",
    "store.connect()\n",
    "fw_docs = list(store.query({\"metadata.fw_id\": {\"$in\": wf['nodes']}}))\n",
    "with open(\"fireworks.json\", \"w\") as f:\n",
    "    json.dump(fw_docs, f, default=str)\n",
    "```"
   ]
  },
  {
   "cell_type": "code",
   "execution_count": null,
   "id": "af02ac20",
   "metadata": {
    "ExecuteTime": {
     "end_time": "2025-01-29T19:45:27.123117Z",
     "start_time": "2025-01-29T19:45:23.105887Z"
    },
    "code_folding": []
   },
   "outputs": [],
   "source": [
    "# Import libraries\n",
    "import numpy as np\n",
    "import json\n",
    "import os\n",
    "import pandas as pd\n",
    "\n",
    "# Import nanoHUB-specific libraries\n",
    "import nanohubremote as nr\n",
    "from simtool import findInstalledSimToolNotebooks,searchForSimTool\n",
    "from simtool import getSimToolInputs,getSimToolOutputs,Run"
   ]
  },
  {
   "cell_type": "markdown",
   "id": "6b1ccc1d",
   "metadata": {},
   "source": [
    "Here we load an example elastic constant workflow. If you want to upload your own file, change the path to your chosen JSON files of the workflow graph and firework docs"
   ]
  },
  {
   "cell_type": "code",
   "execution_count": null,
   "id": "0926708b",
   "metadata": {
    "ExecuteTime": {
     "end_time": "2025-01-29T19:45:28.048280Z",
     "start_time": "2025-01-29T19:45:27.126431Z"
    }
   },
   "outputs": [],
   "source": [
    "# Load json files\n",
    "wf_path = './../examples/workflow.json' # workflow graph JSON file\n",
    "with open(wf_path,'r') as f:\n",
    "    wf_graph = json.load(f)   \n",
    "    \n",
    "fws_path = './../examples/fireworks.json' # firework docs JSON file\n",
    "with open(fws_path,'r') as f:\n",
    "    fw_docs = json.load(f)"
   ]
  },
  {
   "cell_type": "markdown",
   "id": "01a2a1fc",
   "metadata": {},
   "source": [
    "## Load Sim2L"
   ]
  },
  {
   "cell_type": "code",
   "execution_count": null,
   "id": "c37db2cb",
   "metadata": {
    "ExecuteTime": {
     "end_time": "2025-01-29T19:45:28.055860Z",
     "start_time": "2025-01-29T19:45:28.050535Z"
    },
    "scrolled": true
   },
   "outputs": [],
   "source": [
    "# Load the Sim2L\n",
    "simToolName = \"wflowingestor\"\n",
    "simToolLocation = searchForSimTool(simToolName)\n",
    "for key in simToolLocation.keys():\n",
    "    print(\"%18s = %s\" % (key,simToolLocation[key]))\n",
    "\n",
    "installedSimToolNotebooks = findInstalledSimToolNotebooks(simToolName,returnString=True)\n",
    "print(installedSimToolNotebooks)"
   ]
  },
  {
   "cell_type": "code",
   "execution_count": null,
   "id": "f3552d52",
   "metadata": {
    "ExecuteTime": {
     "end_time": "2025-01-29T19:45:28.097157Z",
     "start_time": "2025-01-29T19:45:28.057349Z"
    },
    "scrolled": true
   },
   "outputs": [],
   "source": [
    "# Get the list of inputs and outputs\n",
    "inputs = getSimToolInputs(simToolLocation)\n",
    "outputs = getSimToolOutputs(simToolLocation)"
   ]
  },
  {
   "cell_type": "markdown",
   "id": "15340a0c",
   "metadata": {},
   "source": [
    "## Submit Sim2L sequentially"
   ]
  },
  {
   "cell_type": "code",
   "execution_count": null,
   "id": "ada4b042",
   "metadata": {
    "ExecuteTime": {
     "end_time": "2025-01-29T19:45:28.102874Z",
     "start_time": "2025-01-29T19:45:28.099606Z"
    }
   },
   "outputs": [],
   "source": [
    "# Set the inputs for the Sim2L\n",
    "inputs['wf_graph'].value = wf_graph\n",
    "inputs['author'].value = \"Jane Doe\"\n",
    "inputs['dataset'].value = \"example\""
   ]
  },
  {
   "cell_type": "markdown",
   "id": "e8680faf",
   "metadata": {},
   "source": [
    "Here, we loop through the firework docs to ingest each in our resultsDB"
   ]
  },
  {
   "cell_type": "code",
   "execution_count": null,
   "id": "6f1c0460",
   "metadata": {
    "ExecuteTime": {
     "end_time": "2025-01-29T20:04:10.934824Z",
     "start_time": "2025-01-29T19:45:28.105044Z"
    },
    "scrolled": false
   },
   "outputs": [],
   "source": [
    "for fw_doc in fw_docs:\n",
    "    \n",
    "    inputs['fw_doc'].value = fw_doc\n",
    "    r = Run(simToolLocation,inputs)"
   ]
  }
 ],
 "metadata": {
  "kernelspec": {
   "display_name": "Python 3.8",
   "language": "python",
   "name": "python3"
  },
  "language_info": {
   "codemirror_mode": {
    "name": "ipython",
    "version": 3
   },
   "file_extension": ".py",
   "mimetype": "text/x-python",
   "name": "python",
   "nbconvert_exporter": "python",
   "pygments_lexer": "ipython3",
   "version": "3.8.10"
  },
  "toc": {
   "base_numbering": 1,
   "nav_menu": {},
   "number_sections": true,
   "sideBar": true,
   "skip_h1_title": false,
   "title_cell": "Table of Contents",
   "title_sidebar": "Contents",
   "toc_cell": false,
   "toc_position": {},
   "toc_section_display": true,
   "toc_window_display": false
  },
  "varInspector": {
   "cols": {
    "lenName": 16,
    "lenType": 16,
    "lenVar": 40
   },
   "kernels_config": {
    "python": {
     "delete_cmd_postfix": "",
     "delete_cmd_prefix": "del ",
     "library": "var_list.py",
     "varRefreshCmd": "print(var_dic_list())"
    },
    "r": {
     "delete_cmd_postfix": ") ",
     "delete_cmd_prefix": "rm(",
     "library": "var_list.r",
     "varRefreshCmd": "cat(var_dic_list()) "
    }
   },
   "types_to_exclude": [
    "module",
    "function",
    "builtin_function_or_method",
    "instance",
    "_Feature"
   ],
   "window_display": false
  }
 },
 "nbformat": 4,
 "nbformat_minor": 5
}
