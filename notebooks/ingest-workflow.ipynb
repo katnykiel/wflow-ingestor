{
 "cells": [
  {
   "cell_type": "markdown",
   "id": "10f3bd8b",
   "metadata": {},
   "source": [
    "# Atomate2 Workflow Ingestor \n",
    "###  Kat Nykiel, Alejandro Strachan\n",
    "School of Materials Engineering and Birck Nanotechnology Center, Purdue University, West Lafayette, Indiana 47907, United States"
   ]
  },
  {
   "cell_type": "markdown",
   "id": "f306a9d7",
   "metadata": {},
   "source": [
    "## Load Atomate2 Workflow\n",
    "\n",
    "This Sim2L stores atomate2 workflows by ingesting each firework individually. To keep track of the workflows, you can run the following commands to query your atomate2 database.\n",
    "\n",
    "```python\n",
    "from fireworks import LaunchPad\n",
    "from jobflow import SETTINGS\n",
    "import json\n",
    "\n",
    "# connect to the launchpad (mongodb)\n",
    "lp = LaunchPad.auto_load()\n",
    "\n",
    "# query the launchpad for a workflow\n",
    "wf = lp.workflows.find_one({\"nodes\": 93701})\n",
    "\n",
    "# write the workflow graph to a json file\n",
    "with open(\"workflow.json\", \"w\") as f:\n",
    "    json.dump(wf['links'], f, default=str)\n",
    "\n",
    "# connect to the job store (mongodb)\n",
    "store = SETTINGS.JOB_STORE\n",
    "store.connect()\n",
    "\n",
    "# query the job store for the fireworks in the given workflow\n",
    "fw_docs = list(store.query({\"metadata.fw_id\": {\"$in\": wf['nodes']}}))\n",
    "\n",
    "# write the firework docs to a json file\n",
    "with open(\"fireworks.json\", \"w\") as f:\n",
    "    json.dump(fw_docs, f, default=str)\n",
    "```"
   ]
  },
  {
   "cell_type": "code",
   "execution_count": 1,
   "id": "af02ac20",
   "metadata": {
    "ExecuteTime": {
     "end_time": "2025-01-29T15:51:28.632146Z",
     "start_time": "2025-01-29T15:51:22.139533Z"
    },
    "code_folding": []
   },
   "outputs": [],
   "source": [
    "# Import libraries\n",
    "import numpy as np\n",
    "import json\n",
    "import os\n",
    "import pandas as pd\n",
    "\n",
    "# Import nanoHUB-specific libraries\n",
    "import nanohubremote as nr\n",
    "from simtool import findInstalledSimToolNotebooks,searchForSimTool\n",
    "from simtool import getSimToolInputs,getSimToolOutputs,Run"
   ]
  },
  {
   "cell_type": "markdown",
   "id": "6b1ccc1d",
   "metadata": {},
   "source": [
    "Here we load an example elastic constant workflow. If you want to upload your own file, change the path to your chosen JSON files of the workflow graph and firework docs"
   ]
  },
  {
   "cell_type": "code",
   "execution_count": 2,
   "id": "0926708b",
   "metadata": {
    "ExecuteTime": {
     "end_time": "2025-01-29T15:51:29.469525Z",
     "start_time": "2025-01-29T15:51:28.635125Z"
    }
   },
   "outputs": [],
   "source": [
    "# Load json files\n",
    "wf_path = './../examples/workflow.json' # workflow graph JSON file\n",
    "with open(wf_path,'r') as f:\n",
    "    wf_graph = json.load(f)   \n",
    "    \n",
    "fws_path = './../examples/fireworks.json' # firework docs JSON file\n",
    "with open(fws_path,'r') as f:\n",
    "    fw_docs = json.load(f)"
   ]
  },
  {
   "cell_type": "markdown",
   "id": "01a2a1fc",
   "metadata": {},
   "source": [
    "## Load Sim2L"
   ]
  },
  {
   "cell_type": "code",
   "execution_count": 3,
   "id": "c37db2cb",
   "metadata": {
    "ExecuteTime": {
     "end_time": "2025-01-29T15:51:29.479110Z",
     "start_time": "2025-01-29T15:51:29.472200Z"
    },
    "scrolled": true
   },
   "outputs": [
    {
     "name": "stdout",
     "output_type": "stream",
     "text": [
      "      notebookPath = /home/nanohub/nykiel.4/wflow-ingestor/simtool/wflowingestor.ipynb\n",
      "       simToolName = wflowingestor\n",
      "   simToolRevision = None\n",
      "         published = False\n",
      "{}\n"
     ]
    }
   ],
   "source": [
    "# Load the Sim2L\n",
    "simToolName = \"wflowingestor\"\n",
    "simToolLocation = searchForSimTool(simToolName)\n",
    "for key in simToolLocation.keys():\n",
    "    print(\"%18s = %s\" % (key,simToolLocation[key]))\n",
    "\n",
    "installedSimToolNotebooks = findInstalledSimToolNotebooks(simToolName,returnString=True)\n",
    "print(installedSimToolNotebooks)"
   ]
  },
  {
   "cell_type": "code",
   "execution_count": 4,
   "id": "f3552d52",
   "metadata": {
    "ExecuteTime": {
     "end_time": "2025-01-29T15:51:29.514658Z",
     "start_time": "2025-01-29T15:51:29.480899Z"
    },
    "scrolled": true
   },
   "outputs": [],
   "source": [
    "# Get the list of inputs\n",
    "inputs = getSimToolInputs(simToolLocation)"
   ]
  },
  {
   "cell_type": "code",
   "execution_count": 5,
   "id": "9b7ef970",
   "metadata": {
    "ExecuteTime": {
     "end_time": "2025-01-29T15:51:29.523768Z",
     "start_time": "2025-01-29T15:51:29.516709Z"
    },
    "scrolled": true
   },
   "outputs": [],
   "source": [
    "# Get the list of outputs\n",
    "outputs = getSimToolOutputs(simToolLocation)"
   ]
  },
  {
   "cell_type": "markdown",
   "id": "15340a0c",
   "metadata": {},
   "source": [
    "## Submit Sim2L sequentially"
   ]
  },
  {
   "cell_type": "code",
   "execution_count": 6,
   "id": "ada4b042",
   "metadata": {
    "ExecuteTime": {
     "end_time": "2025-01-29T15:51:29.531656Z",
     "start_time": "2025-01-29T15:51:29.525588Z"
    }
   },
   "outputs": [],
   "source": [
    "# Set the inputs for the Sim2L\n",
    "inputs['wf_graph'].value = wf_graph\n",
    "inputs['author'].value = \"Jane Doe\"\n",
    "inputs['dataset'].value = \"example\""
   ]
  },
  {
   "cell_type": "markdown",
   "id": "e8680faf",
   "metadata": {},
   "source": [
    "Here, we loop through the firework docs to ingest each in our resultsDB"
   ]
  },
  {
   "cell_type": "code",
   "execution_count": 7,
   "id": "6f1c0460",
   "metadata": {
    "ExecuteTime": {
     "end_time": "2025-01-29T15:53:27.783336Z",
     "start_time": "2025-01-29T15:51:29.534695Z"
    },
    "scrolled": false
   },
   "outputs": [
    {
     "name": "stdout",
     "output_type": "stream",
     "text": [
      "runname = f44b89ee8c6942c1a66824f6620ab353\n",
      "outdir  = RUNS/f44b89ee8c6942c1a66824f6620ab353\n",
      "cached  = False\n",
      "submit --local /apps/share64/debian10/anaconda/anaconda-7/bin/papermill\n",
      "       --no-request-save-on-cell-execute --autosave-cell-every 0\n",
      "       --no-use-black-format-injection --parameters_file inputs.yaml\n",
      "       /home/nanohub/nykiel.4/wflow-ingestor/simtool/wflowingestor.ipynb\n",
      "       wflowingestor.ipynb\n"
     ]
    },
    {
     "name": "stderr",
     "output_type": "stream",
     "text": [
      "Input Notebook:  /home/nanohub/nykiel.4/wflow-ingestor/simtool/wflowingestor.ipynb\n",
      "Output Notebook: wflowingestor.ipynb\n",
      "Executing notebook with kernel: python3\n",
      "Executing: 100%|██████████| 15/15 [00:27<00:00,  1.81s/cell]\n"
     ]
    },
    {
     "name": "stdout",
     "output_type": "stream",
     "text": [
      "                       name  \\\n",
      "0  simToolSaveErrorOccurred   \n",
      "1    simToolAllOutputsSaved   \n",
      "2                     fw_id   \n",
      "3                      name   \n",
      "4                 structure   \n",
      "5                   vasp_id   \n",
      "6                   outputs   \n",
      "\n",
      "                                                data encoder display  \\\n",
      "0                                                  0    text    None   \n",
      "1                                                  1    text    None   \n",
      "2                                              91865    text    None   \n",
      "3                                          \"relax 1\"    text    None   \n",
      "4  {\"@class\": \"Structure\", \"@module\": \"pymatgen.c...    text    None   \n",
      "5                                                 \"\"    text    None   \n",
      "6                                                 {}    text    None   \n",
      "\n",
      "              filename  \n",
      "0  wflowingestor.ipynb  \n",
      "1  wflowingestor.ipynb  \n",
      "2  wflowingestor.ipynb  \n",
      "3  wflowingestor.ipynb  \n",
      "4  wflowingestor.ipynb  \n",
      "5  wflowingestor.ipynb  \n",
      "6  wflowingestor.ipynb  \n",
      "runname = d629f991256941feb9b7b21b0baadbac\n",
      "outdir  = RUNS/d629f991256941feb9b7b21b0baadbac\n",
      "cached  = False\n",
      "submit --local /apps/share64/debian10/anaconda/anaconda-7/bin/papermill\n",
      "       --no-request-save-on-cell-execute --autosave-cell-every 0\n",
      "       --no-use-black-format-injection --parameters_file inputs.yaml\n",
      "       /home/nanohub/nykiel.4/wflow-ingestor/simtool/wflowingestor.ipynb\n",
      "       wflowingestor.ipynb\n"
     ]
    },
    {
     "name": "stderr",
     "output_type": "stream",
     "text": [
      "Input Notebook:  /home/nanohub/nykiel.4/wflow-ingestor/simtool/wflowingestor.ipynb\n",
      "Output Notebook: wflowingestor.ipynb\n",
      "Executing notebook with kernel: python3\n",
      "Executing: 100%|██████████| 15/15 [01:13<00:00,  4.89s/cell]\n"
     ]
    },
    {
     "name": "stdout",
     "output_type": "stream",
     "text": [
      "                       name  \\\n",
      "0  simToolSaveErrorOccurred   \n",
      "1    simToolAllOutputsSaved   \n",
      "2                     fw_id   \n",
      "3                      name   \n",
      "4                 structure   \n",
      "5                   vasp_id   \n",
      "6                   outputs   \n",
      "\n",
      "                                                data encoder display  \\\n",
      "0                                                  0    text    None   \n",
      "1                                                  1    text    None   \n",
      "2                                              91864    text    None   \n",
      "3                                          \"relax 2\"    text    None   \n",
      "4  {\"@class\": \"Structure\", \"@module\": \"pymatgen.c...    text    None   \n",
      "5                                                 \"\"    text    None   \n",
      "6                                                 {}    text    None   \n",
      "\n",
      "              filename  \n",
      "0  wflowingestor.ipynb  \n",
      "1  wflowingestor.ipynb  \n",
      "2  wflowingestor.ipynb  \n",
      "3  wflowingestor.ipynb  \n",
      "4  wflowingestor.ipynb  \n",
      "5  wflowingestor.ipynb  \n",
      "6  wflowingestor.ipynb  \n"
     ]
    }
   ],
   "source": [
    "for fw_doc in fw_docs[:2]:\n",
    "    \n",
    "    inputs['fw_doc'].value = fw_doc\n",
    "    r = Run(simToolLocation,inputs)\n",
    "    print(r.getResultSummary())"
   ]
  },
  {
   "cell_type": "code",
   "execution_count": null,
   "id": "f211f644",
   "metadata": {
    "ExecuteTime": {
     "end_time": "2023-06-21T17:06:27.440583Z",
     "start_time": "2023-06-21T17:06:27.414278Z"
    }
   },
   "outputs": [],
   "source": []
  },
  {
   "cell_type": "code",
   "execution_count": null,
   "id": "6f999ee7",
   "metadata": {},
   "outputs": [],
   "source": []
  }
 ],
 "metadata": {
  "kernelspec": {
   "display_name": "Python 3.8",
   "language": "python",
   "name": "python3"
  },
  "language_info": {
   "codemirror_mode": {
    "name": "ipython",
    "version": 3
   },
   "file_extension": ".py",
   "mimetype": "text/x-python",
   "name": "python",
   "nbconvert_exporter": "python",
   "pygments_lexer": "ipython3",
   "version": "3.8.10"
  },
  "toc": {
   "base_numbering": 1,
   "nav_menu": {},
   "number_sections": true,
   "sideBar": true,
   "skip_h1_title": false,
   "title_cell": "Table of Contents",
   "title_sidebar": "Contents",
   "toc_cell": false,
   "toc_position": {},
   "toc_section_display": true,
   "toc_window_display": false
  },
  "varInspector": {
   "cols": {
    "lenName": 16,
    "lenType": 16,
    "lenVar": 40
   },
   "kernels_config": {
    "python": {
     "delete_cmd_postfix": "",
     "delete_cmd_prefix": "del ",
     "library": "var_list.py",
     "varRefreshCmd": "print(var_dic_list())"
    },
    "r": {
     "delete_cmd_postfix": ") ",
     "delete_cmd_prefix": "rm(",
     "library": "var_list.r",
     "varRefreshCmd": "cat(var_dic_list()) "
    }
   },
   "types_to_exclude": [
    "module",
    "function",
    "builtin_function_or_method",
    "instance",
    "_Feature"
   ],
   "window_display": false
  }
 },
 "nbformat": 4,
 "nbformat_minor": 5
}
