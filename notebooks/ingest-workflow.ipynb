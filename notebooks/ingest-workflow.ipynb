{
 "cells": [
  {
   "cell_type": "markdown",
   "id": "10f3bd8b",
   "metadata": {},
   "source": [
    "# Atomate2 Workflow Ingestor \n",
    "###  Kat Nykiel, Alejandro Strachan\n",
    "School of Materials Engineering and Birck Nanotechnology Center, Purdue University, West Lafayette, Indiana 47907, United States"
   ]
  },
  {
   "cell_type": "markdown",
   "id": "f306a9d7",
   "metadata": {},
   "source": [
    "## Load Atomate2 TaskDocuments\n",
    "\n",
    "This Sim2L uses parsed VASP results in the form of TaskDocuments from [atomate2](https://github.com/materialsproject/atomate2). \n",
    "\n",
    "These documents are obtained from VASP using Atomate2's [VaspDrone](https://materialsproject.github.io/atomate2/reference/atomate2.vasp.drones.VaspDrone.html#atomate2.vasp.drones.VaspDrone), saved as json files. For example, running the following in a directory of VASP results would provide a TaskDocument json file\n",
    "\n",
    "```\n",
    "# Import libraries\n",
    "from atomate2.vasp.drones import VaspDrone\n",
    "from monty.json import jsanitize\n",
    "\n",
    "# Parse results with atomate2\n",
    "drone = VaspDrone()\n",
    "doc = drone.assimilate()\n",
    "doc = jsanitize(doc.dict(),recursive_msonable=True)\n",
    "\n",
    "# Save results as json file\n",
    "with open('doc.json','w',encoding='utf-8') as f_o:\n",
    "    json.dump(doc,f_o)\n",
    "```\n",
    "\n",
    "These documents contain most information about the VASP run; however, its large size means it is not easily queryable. The purpose of this Sim2L is to extract relevant features from this schema which can further be used in machine learning workflows."
   ]
  },
  {
   "cell_type": "code",
   "execution_count": null,
   "id": "af02ac20",
   "metadata": {
    "ExecuteTime": {
     "end_time": "2023-06-21T17:06:16.807389Z",
     "start_time": "2023-06-21T17:06:16.804235Z"
    },
    "code_folding": []
   },
   "outputs": [],
   "source": [
    "# Import libraries\n",
    "import numpy as np\n",
    "import json\n",
    "import os\n",
    "import pandas as pd\n",
    "\n",
    "# Import nanoHUB-specific libraries\n",
    "import nanohubremote as nr\n",
    "from simtool import findInstalledSimToolNotebooks,searchForSimTool\n",
    "from simtool import getSimToolInputs,getSimToolOutputs,Run"
   ]
  },
  {
   "cell_type": "markdown",
   "id": "6b1ccc1d",
   "metadata": {},
   "source": [
    "Here we load an example TaskDocument. If you want to upload your own file, change the path to your chosen JSON file"
   ]
  },
  {
   "cell_type": "code",
   "execution_count": null,
   "id": "0926708b",
   "metadata": {
    "ExecuteTime": {
     "end_time": "2023-06-21T17:06:17.398802Z",
     "start_time": "2023-06-21T17:06:17.391880Z"
    }
   },
   "outputs": [],
   "source": [
    "# Load json file\n",
    "path = './../examples/doc.json' # set path to JSON file\n",
    "with open(path,'r') as f:\n",
    "    doc = json.load(f)   "
   ]
  },
  {
   "cell_type": "markdown",
   "id": "01a2a1fc",
   "metadata": {},
   "source": [
    "## Load Sim2L"
   ]
  },
  {
   "cell_type": "code",
   "execution_count": null,
   "id": "c37db2cb",
   "metadata": {
    "ExecuteTime": {
     "end_time": "2023-06-21T17:06:17.597117Z",
     "start_time": "2023-06-21T17:06:17.553029Z"
    },
    "scrolled": true
   },
   "outputs": [],
   "source": [
    "# Load the Sim2L\n",
    "simToolName = \"vaspingestor\"\n",
    "simToolLocation = searchForSimTool(simToolName)\n",
    "for key in simToolLocation.keys():\n",
    "    print(\"%18s = %s\" % (key,simToolLocation[key]))\n",
    "\n",
    "installedSimToolNotebooks = findInstalledSimToolNotebooks(simToolName,returnString=True)\n",
    "print(installedSimToolNotebooks)"
   ]
  },
  {
   "cell_type": "code",
   "execution_count": null,
   "id": "f3552d52",
   "metadata": {
    "ExecuteTime": {
     "end_time": "2023-06-21T17:06:17.645193Z",
     "start_time": "2023-06-21T17:06:17.638903Z"
    },
    "scrolled": true
   },
   "outputs": [],
   "source": [
    "# Get the list of inputs\n",
    "inputs = getSimToolInputs(simToolLocation)\n",
    "print(inputs)"
   ]
  },
  {
   "cell_type": "code",
   "execution_count": null,
   "id": "9b7ef970",
   "metadata": {
    "ExecuteTime": {
     "end_time": "2023-06-21T17:06:17.729505Z",
     "start_time": "2023-06-21T17:06:17.718183Z"
    },
    "scrolled": true
   },
   "outputs": [],
   "source": [
    "# Get the list of outputs\n",
    "outputs = getSimToolOutputs(simToolLocation)\n",
    "print(outputs)"
   ]
  },
  {
   "cell_type": "markdown",
   "id": "15340a0c",
   "metadata": {},
   "source": [
    "## Submit Sim2L sequentially"
   ]
  },
  {
   "cell_type": "code",
   "execution_count": null,
   "id": "ada4b042",
   "metadata": {
    "ExecuteTime": {
     "end_time": "2023-06-21T17:06:17.888500Z",
     "start_time": "2023-06-21T17:06:17.885935Z"
    }
   },
   "outputs": [],
   "source": [
    "# Set the inputs for the Sim2L\n",
    "inputs['doc'].value = doc\n",
    "inputs['author'].value = \"Jane Doe\"\n",
    "inputs['dataset'].value = \"example\""
   ]
  },
  {
   "cell_type": "code",
   "execution_count": null,
   "id": "6f1c0460",
   "metadata": {
    "ExecuteTime": {
     "end_time": "2023-06-21T17:06:27.400575Z",
     "start_time": "2023-06-21T17:06:17.969660Z"
    },
    "scrolled": false
   },
   "outputs": [],
   "source": [
    "# Run Sim2L\n",
    "r = Run(simToolLocation,inputs)"
   ]
  },
  {
   "cell_type": "code",
   "execution_count": null,
   "id": "f211f644",
   "metadata": {
    "ExecuteTime": {
     "end_time": "2023-06-21T17:06:27.440583Z",
     "start_time": "2023-06-21T17:06:27.414278Z"
    }
   },
   "outputs": [],
   "source": [
    "# Obtain results for Sim2L\n",
    "r.getResultSummary()"
   ]
  },
  {
   "cell_type": "code",
   "execution_count": null,
   "id": "6f999ee7",
   "metadata": {},
   "outputs": [],
   "source": []
  }
 ],
 "metadata": {
  "kernelspec": {
   "display_name": "Python 3.8",
   "language": "python",
   "name": "python3"
  },
  "language_info": {
   "codemirror_mode": {
    "name": "ipython",
    "version": 3
   },
   "file_extension": ".py",
   "mimetype": "text/x-python",
   "name": "python",
   "nbconvert_exporter": "python",
   "pygments_lexer": "ipython3",
   "version": "3.8.10"
  },
  "toc": {
   "base_numbering": 1,
   "nav_menu": {},
   "number_sections": true,
   "sideBar": true,
   "skip_h1_title": false,
   "title_cell": "Table of Contents",
   "title_sidebar": "Contents",
   "toc_cell": false,
   "toc_position": {},
   "toc_section_display": true,
   "toc_window_display": false
  },
  "varInspector": {
   "cols": {
    "lenName": 16,
    "lenType": 16,
    "lenVar": 40
   },
   "kernels_config": {
    "python": {
     "delete_cmd_postfix": "",
     "delete_cmd_prefix": "del ",
     "library": "var_list.py",
     "varRefreshCmd": "print(var_dic_list())"
    },
    "r": {
     "delete_cmd_postfix": ") ",
     "delete_cmd_prefix": "rm(",
     "library": "var_list.r",
     "varRefreshCmd": "cat(var_dic_list()) "
    }
   },
   "types_to_exclude": [
    "module",
    "function",
    "builtin_function_or_method",
    "instance",
    "_Feature"
   ],
   "window_display": false
  }
 },
 "nbformat": 4,
 "nbformat_minor": 5
}
